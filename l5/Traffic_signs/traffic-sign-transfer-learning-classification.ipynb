{
 "cells": [
  {
   "cell_type": "markdown",
   "id": "e735fc20",
   "metadata": {},
   "source": [
    "# __Original notebook can be found here:__ https://www.kaggle.com/code/nandinitatiwala/traffic-sign-transfer-learning-classification"
   ]
  },
  {
   "cell_type": "markdown",
   "id": "faa1e36e",
   "metadata": {
    "papermill": {
     "duration": 0.009967,
     "end_time": "2024-03-11T15:54:13.406936",
     "exception": false,
     "start_time": "2024-03-11T15:54:13.396969",
     "status": "completed"
    },
    "tags": []
   },
   "source": [
    "# Introduction\n",
    "With automation becoming increasingly common, machine models being able understand traffic signs is key for self-driving cars and other forms of transport to ensure safety. As such, I wanted to incorporate deep learning into this and see how a machine learning model would respond to identifying various traffic signs.\n",
    "\n",
    "The goal of this investigation is to see if, using a pertained model, I could get a model that is able to accurately classify traffic signs."
   ]
  },
  {
   "cell_type": "markdown",
   "id": "aa6781b3",
   "metadata": {
    "papermill": {
     "duration": 0.008863,
     "end_time": "2024-03-11T15:54:13.425745",
     "exception": false,
     "start_time": "2024-03-11T15:54:13.416882",
     "status": "completed"
    },
    "tags": []
   },
   "source": [
    "## Setting Up\n",
    "First, we need to set up the general base for a machine learning model. "
   ]
  },
  {
   "cell_type": "code",
   "execution_count": null,
   "id": "28badd6f",
   "metadata": {
    "_kg_hide-input": true,
    "execution": {
     "iopub.execute_input": "2024-03-11T15:54:13.446253Z",
     "iopub.status.busy": "2024-03-11T15:54:13.445881Z",
     "iopub.status.idle": "2024-03-11T15:54:35.642995Z",
     "shell.execute_reply": "2024-03-11T15:54:35.641966Z"
    },
    "papermill": {
     "duration": 22.210431,
     "end_time": "2024-03-11T15:54:35.645560",
     "exception": false,
     "start_time": "2024-03-11T15:54:13.435129",
     "status": "completed"
    },
    "tags": []
   },
   "outputs": [],
   "source": [
    "# loading general packages and libraries \n",
    "import numpy as np \n",
    "import pandas as pd \n",
    "import matplotlib.pyplot as plt\n",
    "import matplotlib.image as mpimg\n",
    "import seaborn as sns\n",
    "import os\n",
    "import cv2\n",
    "import random\n",
    "from PIL import Image\n",
    "\n",
    "# loading tensor flow libraries needed\n",
    "import tensorflow as tf\n",
    "from tensorflow.keras.preprocessing.image import ImageDataGenerator\n",
    "from tensorflow.keras.applications import ResNet50\n",
    "from tensorflow.keras.applications.resnet50 import preprocess_input\n",
    "from tensorflow.keras import Sequential\n",
    "from tensorflow.keras.layers import Dense\n",
    "from keras.layers import Dropout, Flatten, MaxPool2D,BatchNormalization\n",
    "from keras.preprocessing import image\n",
    "from tensorflow.keras.optimizers import Adam,SGD\n",
    "import keras\n",
    "from keras.preprocessing import image\n",
    "\n",
    "seed=1\n",
    "np.random.seed(seed)\n",
    "tf.random.set_seed(seed)"
   ]
  },
  {
   "cell_type": "markdown",
   "id": "d40cee64",
   "metadata": {
    "papermill": {
     "duration": 0.008883,
     "end_time": "2024-03-11T15:54:35.664196",
     "exception": false,
     "start_time": "2024-03-11T15:54:35.655313",
     "status": "completed"
    },
    "tags": []
   },
   "source": [
    "## Gather and Explore the Data\n",
    "For this investigation, I will be using a dataset I found on Kaggle. The data consists of images of traffic signs which have been automatically registered so that the sign is centred and occupies around the same space in each image.\n",
    "\n",
    "The are around 58 classes and each class has around 120 images. Since this dataset has not been cleaned and organised completely, we first need to ensure there is an adequete amount of photos in each class and that they are correctly categorised."
   ]
  },
  {
   "cell_type": "code",
   "execution_count": null,
   "id": "30eddb76",
   "metadata": {
    "execution": {
     "iopub.execute_input": "2024-03-11T15:54:35.683912Z",
     "iopub.status.busy": "2024-03-11T15:54:35.683357Z",
     "iopub.status.idle": "2024-03-11T15:54:35.718502Z",
     "shell.execute_reply": "2024-03-11T15:54:35.717605Z"
    },
    "papermill": {
     "duration": 0.046948,
     "end_time": "2024-03-11T15:54:35.720486",
     "exception": false,
     "start_time": "2024-03-11T15:54:35.673538",
     "status": "completed"
    },
    "tags": []
   },
   "outputs": [],
   "source": [
    "# importing images\n",
    "train_dir = \"/kaggle/input/traffic-sign-dataset-classification/traffic_Data/DATA/\" \n",
    "\n",
    "# reading the csv file\n",
    "labels = pd.read_csv(\"/kaggle/input/traffic-sign-dataset-classification/labels.csv\")\n",
    "labels"
   ]
  },
  {
   "cell_type": "code",
   "execution_count": null,
   "id": "b87222b8",
   "metadata": {
    "execution": {
     "iopub.execute_input": "2024-03-11T15:54:35.740952Z",
     "iopub.status.busy": "2024-03-11T15:54:35.740421Z",
     "iopub.status.idle": "2024-03-11T15:54:37.331083Z",
     "shell.execute_reply": "2024-03-11T15:54:37.330105Z"
    },
    "papermill": {
     "duration": 1.602983,
     "end_time": "2024-03-11T15:54:37.333124",
     "exception": false,
     "start_time": "2024-03-11T15:54:35.730141",
     "status": "completed"
    },
    "tags": []
   },
   "outputs": [],
   "source": [
    "# no. of images per label\n",
    "lst = []\n",
    "for i in labels.index:\n",
    "    lst.append(len(os.listdir(train_dir + str(i))))\n",
    "labels['count'] = lst\n",
    "labels['count'].describe()"
   ]
  },
  {
   "cell_type": "code",
   "execution_count": null,
   "id": "3dcc10df",
   "metadata": {
    "execution": {
     "iopub.execute_input": "2024-03-11T15:54:37.356082Z",
     "iopub.status.busy": "2024-03-11T15:54:37.355807Z",
     "iopub.status.idle": "2024-03-11T15:54:37.373846Z",
     "shell.execute_reply": "2024-03-11T15:54:37.373046Z"
    },
    "papermill": {
     "duration": 0.031747,
     "end_time": "2024-03-11T15:54:37.375804",
     "exception": false,
     "start_time": "2024-03-11T15:54:37.344057",
     "status": "completed"
    },
    "tags": []
   },
   "outputs": [],
   "source": [
    "# only keep those with enough images in each label \n",
    "labels = labels[labels['count'] >= 107.5]\n",
    "labels"
   ]
  },
  {
   "cell_type": "code",
   "execution_count": null,
   "id": "a0bdf6f2",
   "metadata": {
    "execution": {
     "iopub.execute_input": "2024-03-11T15:54:37.397284Z",
     "iopub.status.busy": "2024-03-11T15:54:37.397034Z",
     "iopub.status.idle": "2024-03-11T15:54:37.874462Z",
     "shell.execute_reply": "2024-03-11T15:54:37.873334Z"
    },
    "papermill": {
     "duration": 0.492534,
     "end_time": "2024-03-11T15:54:37.878663",
     "exception": false,
     "start_time": "2024-03-11T15:54:37.386129",
     "status": "completed"
    },
    "tags": []
   },
   "outputs": [],
   "source": [
    "# finding the unknown image\n",
    "fnames = os.listdir(train_dir + '56')\n",
    "img = cv2.imread(train_dir + '56/' + fnames[3])\n",
    "plt.imshow(img)"
   ]
  },
  {
   "cell_type": "code",
   "execution_count": null,
   "id": "31059cf5",
   "metadata": {
    "execution": {
     "iopub.execute_input": "2024-03-11T15:54:37.913572Z",
     "iopub.status.busy": "2024-03-11T15:54:37.912792Z",
     "iopub.status.idle": "2024-03-11T15:54:37.921205Z",
     "shell.execute_reply": "2024-03-11T15:54:37.920229Z"
    },
    "papermill": {
     "duration": 0.026958,
     "end_time": "2024-03-11T15:54:37.923360",
     "exception": false,
     "start_time": "2024-03-11T15:54:37.896402",
     "status": "completed"
    },
    "tags": []
   },
   "outputs": [],
   "source": [
    "# renaming\n",
    "labels.loc[56, \"Name\"] = \"Yield\"\n",
    "\n",
    "labels[\"Name\"] = [\"Speed Limit 5\", \"Speed Limit 40\",\n",
    "       \"Speed Limit 60\", \"Speed Limit 80\", \"No Left\",\n",
    "       \"No Overtake from Left\", \"No Cars\", \"No Horn\", \"Keep Right\",\n",
    "       \"Watch for Cars\", \"Bicycle Crossing\", \"Zebra Crossing\",\n",
    "       \"No Stopping\", \"No Entry\", \"Yield\"]"
   ]
  },
  {
   "cell_type": "markdown",
   "id": "203c5727",
   "metadata": {
    "papermill": {
     "duration": 0.014192,
     "end_time": "2024-03-11T15:54:37.952429",
     "exception": false,
     "start_time": "2024-03-11T15:54:37.938237",
     "status": "completed"
    },
    "tags": []
   },
   "source": [
    "Now that we have cleaned the data, we can load the libraries."
   ]
  },
  {
   "cell_type": "code",
   "execution_count": null,
   "id": "64aa2b92",
   "metadata": {
    "execution": {
     "iopub.execute_input": "2024-03-11T15:54:37.982915Z",
     "iopub.status.busy": "2024-03-11T15:54:37.982296Z",
     "iopub.status.idle": "2024-03-11T15:54:38.258007Z",
     "shell.execute_reply": "2024-03-11T15:54:38.257065Z"
    },
    "papermill": {
     "duration": 0.293418,
     "end_time": "2024-03-11T15:54:38.260289",
     "exception": false,
     "start_time": "2024-03-11T15:54:37.966871",
     "status": "completed"
    },
    "tags": []
   },
   "outputs": [],
   "source": [
    "# set the image size \n",
    "image_size = 128\n",
    "\n",
    "# input and data augmentation\n",
    "train_datagen = ImageDataGenerator(\n",
    "        rescale = 1 / 255.,\n",
    "        rotation_range=10,\n",
    "        zoom_range=0.2,\n",
    "        width_shift_range=0.1,\n",
    "        height_shift_range=0.1,                                       \n",
    "        fill_mode=\"nearest\",\n",
    "        validation_split=0.25,\n",
    "    )\n",
    "\n",
    "train_generator = train_datagen.flow_from_directory(\n",
    "    directory = train_dir,          \n",
    "    target_size = (image_size, image_size), \n",
    "    batch_size = 28,\n",
    "    shuffle=True,\n",
    "    class_mode = \"categorical\",   \n",
    "    subset = \"training\"     \n",
    ")\n",
    "\n",
    "validation_generator = train_datagen.flow_from_directory(\n",
    "    directory = train_dir,   \n",
    "    target_size = (image_size, image_size),   \n",
    "    batch_size = 28, \n",
    "    class_mode = \"categorical\",\n",
    "    subset = \"validation\"\n",
    ")"
   ]
  },
  {
   "cell_type": "markdown",
   "id": "62314743",
   "metadata": {
    "papermill": {
     "duration": 0.016899,
     "end_time": "2024-03-11T15:54:38.294699",
     "exception": false,
     "start_time": "2024-03-11T15:54:38.277800",
     "status": "completed"
    },
    "tags": []
   },
   "source": [
    "## Transfer Learning\n",
    "\n",
    "Since the data is ready, it is time to train the model using the pretrained ResNet50 model. This is already done through transfer learning, which takes a pretrained model, removes the final layer, and replaces that last layer with the relevant output.\n",
    "\n",
    "ResNet50 is quite a popular model and accurate for this project since it is commonly used for traffic sign analysis.\n",
    "\n",
    "Below, is the first model (removing the final layer of the ResNet50 model and replacing it with a Dense final layer with the number of nodes being the number of outputs)."
   ]
  },
  {
   "cell_type": "markdown",
   "id": "7e24255b",
   "metadata": {
    "papermill": {
     "duration": 0.01619,
     "end_time": "2024-03-11T15:54:38.328018",
     "exception": false,
     "start_time": "2024-03-11T15:54:38.311828",
     "status": "completed"
    },
    "tags": []
   },
   "source": [
    "### Model 1"
   ]
  },
  {
   "cell_type": "code",
   "execution_count": null,
   "id": "8f832682",
   "metadata": {
    "_kg_hide-output": false,
    "execution": {
     "iopub.execute_input": "2024-03-11T15:54:38.361293Z",
     "iopub.status.busy": "2024-03-11T15:54:38.360511Z",
     "iopub.status.idle": "2024-03-11T15:54:41.986386Z",
     "shell.execute_reply": "2024-03-11T15:54:41.985521Z"
    },
    "papermill": {
     "duration": 3.644872,
     "end_time": "2024-03-11T15:54:41.988199",
     "exception": false,
     "start_time": "2024-03-11T15:54:38.343327",
     "status": "completed"
    },
    "tags": []
   },
   "outputs": [],
   "source": [
    "# set classes to number of categories and input weight paths\n",
    "num_classes = 58\n",
    "resnet_weights_path = '../input/resnet50/resnet50_weights_tf_dim_ordering_tf_kernels_notop.h5'\n",
    "\n",
    "# defining the model\n",
    "model = Sequential()\n",
    "model.trainable = True\n",
    "\n",
    "model.add(ResNet50(include_top=False, pooling='avg', weights= resnet_weights_path))\n",
    "model.add(BatchNormalization())\n",
    "model.add(Dense(48, activation='relu'))\n",
    "model.add(Dropout(0.25))\n",
    "model.add(BatchNormalization())\n",
    "model.add(Dense(128, activation='relu'))\n",
    "model.add(Dense(num_classes, activation='softmax'))\n",
    "\n",
    "model.summary()"
   ]
  },
  {
   "cell_type": "markdown",
   "id": "595eab52",
   "metadata": {
    "papermill": {
     "duration": 0.01542,
     "end_time": "2024-03-11T15:54:42.019675",
     "exception": false,
     "start_time": "2024-03-11T15:54:42.004255",
     "status": "completed"
    },
    "tags": []
   },
   "source": [
    "Now, we need to compile the final layer of the network using categorical_crossentropy as the loss function and the stochastic gradient descent (as the optimizer) to minimize the categorical cross-entropy loss. "
   ]
  },
  {
   "cell_type": "code",
   "execution_count": null,
   "id": "abf8bf24",
   "metadata": {
    "_kg_hide-output": true,
    "execution": {
     "iopub.execute_input": "2024-03-11T15:54:42.052195Z",
     "iopub.status.busy": "2024-03-11T15:54:42.051873Z",
     "iopub.status.idle": "2024-03-11T15:54:42.065577Z",
     "shell.execute_reply": "2024-03-11T15:54:42.064689Z"
    },
    "papermill": {
     "duration": 0.032323,
     "end_time": "2024-03-11T15:54:42.067451",
     "exception": false,
     "start_time": "2024-03-11T15:54:42.035128",
     "status": "completed"
    },
    "tags": []
   },
   "outputs": [],
   "source": [
    "model.compile(optimizer=\"sgd\", loss='categorical_crossentropy', metrics=['accuracy'])"
   ]
  },
  {
   "cell_type": "markdown",
   "id": "b20c0a76",
   "metadata": {
    "papermill": {
     "duration": 0.015481,
     "end_time": "2024-03-11T15:54:42.098540",
     "exception": false,
     "start_time": "2024-03-11T15:54:42.083059",
     "status": "completed"
    },
    "tags": []
   },
   "source": [
    "Now we fit the model for training and validation using 12 epochs and 60 steps per epoch."
   ]
  },
  {
   "cell_type": "code",
   "execution_count": null,
   "id": "0a292829",
   "metadata": {
    "execution": {
     "iopub.execute_input": "2024-03-11T15:54:42.132932Z",
     "iopub.status.busy": "2024-03-11T15:54:42.132566Z",
     "iopub.status.idle": "2024-03-11T15:58:29.819517Z",
     "shell.execute_reply": "2024-03-11T15:58:29.818533Z"
    },
    "papermill": {
     "duration": 227.706337,
     "end_time": "2024-03-11T15:58:29.821780",
     "exception": false,
     "start_time": "2024-03-11T15:54:42.115443",
     "status": "completed"
    },
    "tags": []
   },
   "outputs": [],
   "source": [
    "history = model.fit(\n",
    "        train_generator,\n",
    "        steps_per_epoch= 60,\n",
    "        epochs = 12,\n",
    "        validation_data=validation_generator,\n",
    "        validation_steps=5)"
   ]
  },
  {
   "cell_type": "code",
   "execution_count": null,
   "id": "e89b62b7",
   "metadata": {
    "execution": {
     "iopub.execute_input": "2024-03-11T15:58:29.970519Z",
     "iopub.status.busy": "2024-03-11T15:58:29.969698Z",
     "iopub.status.idle": "2024-03-11T15:58:30.247514Z",
     "shell.execute_reply": "2024-03-11T15:58:30.246545Z"
    },
    "papermill": {
     "duration": 0.354937,
     "end_time": "2024-03-11T15:58:30.249621",
     "exception": false,
     "start_time": "2024-03-11T15:58:29.894684",
     "status": "completed"
    },
    "tags": []
   },
   "outputs": [],
   "source": [
    "plt.plot(history.history['accuracy'])\n",
    "plt.plot(history.history['val_accuracy'])\n",
    "plt.title('model accuracy')\n",
    "plt.ylabel('accuracy')\n",
    "plt.xlabel('epoch')\n",
    "plt.legend(['train', 'val'], loc='upper left')\n",
    "plt.show()"
   ]
  },
  {
   "cell_type": "code",
   "execution_count": null,
   "id": "fe2ce0cd",
   "metadata": {
    "execution": {
     "iopub.execute_input": "2024-03-11T15:58:30.438895Z",
     "iopub.status.busy": "2024-03-11T15:58:30.438417Z",
     "iopub.status.idle": "2024-03-11T15:58:30.666364Z",
     "shell.execute_reply": "2024-03-11T15:58:30.665386Z"
    },
    "papermill": {
     "duration": 0.345883,
     "end_time": "2024-03-11T15:58:30.668281",
     "exception": false,
     "start_time": "2024-03-11T15:58:30.322398",
     "status": "completed"
    },
    "tags": []
   },
   "outputs": [],
   "source": [
    "plt.plot(history.history['loss'])\n",
    "plt.plot(history.history['val_loss'])\n",
    "plt.title('model loss')\n",
    "plt.ylabel('loss')\n",
    "plt.xlabel('epoch')\n",
    "plt.legend(['train', 'val'], loc='upper left')\n",
    "plt.show()"
   ]
  },
  {
   "cell_type": "markdown",
   "id": "99aaba94",
   "metadata": {
    "papermill": {
     "duration": 0.071811,
     "end_time": "2024-03-11T15:58:30.812336",
     "exception": false,
     "start_time": "2024-03-11T15:58:30.740525",
     "status": "completed"
    },
    "tags": []
   },
   "source": [
    "This wasn't bad at all for a first model! We got a accuracy score of 88% and a validation accuracy of 52%. Let's see if it can be improved with a different optimiser called adam and changing a few parameters."
   ]
  },
  {
   "cell_type": "markdown",
   "id": "2b1abad9",
   "metadata": {
    "papermill": {
     "duration": 0.071803,
     "end_time": "2024-03-11T15:58:30.955898",
     "exception": false,
     "start_time": "2024-03-11T15:58:30.884095",
     "status": "completed"
    },
    "tags": []
   },
   "source": [
    "### Model 2"
   ]
  },
  {
   "cell_type": "code",
   "execution_count": null,
   "id": "67a07e65",
   "metadata": {
    "execution": {
     "iopub.execute_input": "2024-03-11T15:58:31.101342Z",
     "iopub.status.busy": "2024-03-11T15:58:31.100716Z",
     "iopub.status.idle": "2024-03-11T15:58:33.538191Z",
     "shell.execute_reply": "2024-03-11T15:58:33.537352Z"
    },
    "papermill": {
     "duration": 2.512557,
     "end_time": "2024-03-11T15:58:33.540159",
     "exception": false,
     "start_time": "2024-03-11T15:58:31.027602",
     "status": "completed"
    },
    "tags": []
   },
   "outputs": [],
   "source": [
    "# define the model (add layers)\n",
    "model2 = Sequential()\n",
    "model2.trainable = True\n",
    "\n",
    "model2.add(ResNet50(include_top=False, pooling='avg', weights= resnet_weights_path))\n",
    "model2.add(BatchNormalization())\n",
    "model2.add(Dense(48, activation='relu'))\n",
    "model2.add(BatchNormalization())\n",
    "model2.add(Dense(256, activation='relu'))\n",
    "model2.add(Dropout(0.25))\n",
    "model2.add(Dense(128, activation='relu'))\n",
    "model2.add(Dense(num_classes, activation='softmax'))\n",
    "\n",
    "model2.summary()"
   ]
  },
  {
   "cell_type": "code",
   "execution_count": null,
   "id": "1ac9cf34",
   "metadata": {
    "execution": {
     "iopub.execute_input": "2024-03-11T15:58:33.689373Z",
     "iopub.status.busy": "2024-03-11T15:58:33.688697Z",
     "iopub.status.idle": "2024-03-11T15:58:33.698941Z",
     "shell.execute_reply": "2024-03-11T15:58:33.698224Z"
    },
    "papermill": {
     "duration": 0.086812,
     "end_time": "2024-03-11T15:58:33.700794",
     "exception": false,
     "start_time": "2024-03-11T15:58:33.613982",
     "status": "completed"
    },
    "tags": []
   },
   "outputs": [],
   "source": [
    "model2.compile(optimizer=\"adam\", loss='categorical_crossentropy', metrics=['accuracy'])"
   ]
  },
  {
   "cell_type": "code",
   "execution_count": null,
   "id": "4ecbfead",
   "metadata": {
    "execution": {
     "iopub.execute_input": "2024-03-11T15:58:33.851505Z",
     "iopub.status.busy": "2024-03-11T15:58:33.850790Z",
     "iopub.status.idle": "2024-03-11T16:02:16.320511Z",
     "shell.execute_reply": "2024-03-11T16:02:16.319578Z"
    },
    "papermill": {
     "duration": 222.548004,
     "end_time": "2024-03-11T16:02:16.322806",
     "exception": false,
     "start_time": "2024-03-11T15:58:33.774802",
     "status": "completed"
    },
    "tags": []
   },
   "outputs": [],
   "source": [
    "history2 = model2.fit(\n",
    "        train_generator,\n",
    "        steps_per_epoch= 60,\n",
    "        epochs = 12,\n",
    "        validation_data=validation_generator,\n",
    "        validation_steps=5)"
   ]
  },
  {
   "cell_type": "code",
   "execution_count": null,
   "id": "d246340a",
   "metadata": {
    "execution": {
     "iopub.execute_input": "2024-03-11T16:02:16.584276Z",
     "iopub.status.busy": "2024-03-11T16:02:16.583925Z",
     "iopub.status.idle": "2024-03-11T16:02:16.794200Z",
     "shell.execute_reply": "2024-03-11T16:02:16.793309Z"
    },
    "papermill": {
     "duration": 0.342397,
     "end_time": "2024-03-11T16:02:16.796271",
     "exception": false,
     "start_time": "2024-03-11T16:02:16.453874",
     "status": "completed"
    },
    "tags": []
   },
   "outputs": [],
   "source": [
    "plt.plot(history2.history['accuracy'])\n",
    "plt.plot(history2.history['val_accuracy'])\n",
    "plt.title('model accuracy')\n",
    "plt.ylabel('accuracy')\n",
    "plt.xlabel('epoch')\n",
    "plt.legend(['train', 'val'], loc='upper left')\n",
    "plt.show()"
   ]
  },
  {
   "cell_type": "markdown",
   "id": "d6cc8e8b",
   "metadata": {
    "papermill": {
     "duration": 0.131818,
     "end_time": "2024-03-11T16:02:17.059225",
     "exception": false,
     "start_time": "2024-03-11T16:02:16.927407",
     "status": "completed"
    },
    "tags": []
   },
   "source": [
    "This model is slightly better! With an accuracy score of 89%, this was improved however the validation accuracy was only 10%. Using this as the base, lets tune the parameters to see if we can improve the validation accuracy score."
   ]
  },
  {
   "cell_type": "markdown",
   "id": "9d7a39bf",
   "metadata": {
    "papermill": {
     "duration": 0.129188,
     "end_time": "2024-03-11T16:02:17.317598",
     "exception": false,
     "start_time": "2024-03-11T16:02:17.188410",
     "status": "completed"
    },
    "tags": []
   },
   "source": [
    "### Model 3"
   ]
  },
  {
   "cell_type": "code",
   "execution_count": null,
   "id": "ff2ea50c",
   "metadata": {
    "execution": {
     "iopub.execute_input": "2024-03-11T16:02:17.580541Z",
     "iopub.status.busy": "2024-03-11T16:02:17.579930Z",
     "iopub.status.idle": "2024-03-11T16:02:19.877835Z",
     "shell.execute_reply": "2024-03-11T16:02:19.876834Z"
    },
    "papermill": {
     "duration": 2.428915,
     "end_time": "2024-03-11T16:02:19.879910",
     "exception": false,
     "start_time": "2024-03-11T16:02:17.450995",
     "status": "completed"
    },
    "tags": []
   },
   "outputs": [],
   "source": [
    "# define the model\n",
    "model3 = Sequential()\n",
    "model3.trainable = True\n",
    "\n",
    "model3.add(ResNet50(include_top=False, pooling='avg', weights= resnet_weights_path))\n",
    "model3.add(BatchNormalization())\n",
    "model3.add(Dense(48, activation='relu'))\n",
    "model3.add(BatchNormalization())\n",
    "model3.add(Dense(256, activation='relu'))\n",
    "model3.add(Dropout(0.25))\n",
    "model3.add(Dense(128, activation='relu'))\n",
    "model3.add(Dense(num_classes, activation='softmax'))\n",
    "\n",
    "model3.summary()"
   ]
  },
  {
   "cell_type": "code",
   "execution_count": null,
   "id": "649170f3",
   "metadata": {
    "execution": {
     "iopub.execute_input": "2024-03-11T16:02:20.146621Z",
     "iopub.status.busy": "2024-03-11T16:02:20.146271Z",
     "iopub.status.idle": "2024-03-11T16:02:20.154359Z",
     "shell.execute_reply": "2024-03-11T16:02:20.153667Z"
    },
    "papermill": {
     "duration": 0.143718,
     "end_time": "2024-03-11T16:02:20.156343",
     "exception": false,
     "start_time": "2024-03-11T16:02:20.012625",
     "status": "completed"
    },
    "tags": []
   },
   "outputs": [],
   "source": [
    "model3.compile(optimizer=\"adam\", loss='categorical_crossentropy', metrics=['accuracy'])"
   ]
  },
  {
   "cell_type": "code",
   "execution_count": null,
   "id": "144d9b96",
   "metadata": {
    "execution": {
     "iopub.execute_input": "2024-03-11T16:02:20.420363Z",
     "iopub.status.busy": "2024-03-11T16:02:20.419878Z",
     "iopub.status.idle": "2024-03-11T16:06:31.015831Z",
     "shell.execute_reply": "2024-03-11T16:06:31.014852Z"
    },
    "papermill": {
     "duration": 250.788724,
     "end_time": "2024-03-11T16:06:31.076233",
     "exception": false,
     "start_time": "2024-03-11T16:02:20.287509",
     "status": "completed"
    },
    "tags": []
   },
   "outputs": [],
   "source": [
    "# tuning to try to improve the score\n",
    "history3 = model3.fit(\n",
    "        train_generator,\n",
    "        steps_per_epoch= 60,\n",
    "        epochs = 15,\n",
    "        validation_data=validation_generator,\n",
    "        validation_steps=7)"
   ]
  },
  {
   "cell_type": "code",
   "execution_count": null,
   "id": "870df0c1",
   "metadata": {
    "execution": {
     "iopub.execute_input": "2024-03-11T16:06:31.528311Z",
     "iopub.status.busy": "2024-03-11T16:06:31.527464Z",
     "iopub.status.idle": "2024-03-11T16:06:31.810175Z",
     "shell.execute_reply": "2024-03-11T16:06:31.809254Z"
    },
    "papermill": {
     "duration": 0.488204,
     "end_time": "2024-03-11T16:06:31.812334",
     "exception": false,
     "start_time": "2024-03-11T16:06:31.324130",
     "status": "completed"
    },
    "tags": []
   },
   "outputs": [],
   "source": [
    "plt.plot(history3.history['accuracy'])\n",
    "plt.plot(history3.history['val_accuracy'])\n",
    "plt.title('model accuracy')\n",
    "plt.ylabel('accuracy')\n",
    "plt.xlabel('epoch')\n",
    "plt.legend(['train', 'val'], loc='upper left')\n",
    "plt.show()"
   ]
  },
  {
   "cell_type": "markdown",
   "id": "a2e6eddb",
   "metadata": {
    "papermill": {
     "duration": 0.207898,
     "end_time": "2024-03-11T16:06:32.226323",
     "exception": false,
     "start_time": "2024-03-11T16:06:32.018425",
     "status": "completed"
    },
    "tags": []
   },
   "source": [
    "This was much better! It seems Model 3 resulted in the best scores with an accuracy score of 92% and a validation score of 68%."
   ]
  },
  {
   "cell_type": "markdown",
   "id": "a5d7e752",
   "metadata": {
    "papermill": {
     "duration": 0.199462,
     "end_time": "2024-03-11T16:06:32.647628",
     "exception": false,
     "start_time": "2024-03-11T16:06:32.448166",
     "status": "completed"
    },
    "tags": []
   },
   "source": [
    "## Prediction\n",
    "Let's use an image from the testing data to see the accuracy of the model."
   ]
  },
  {
   "cell_type": "code",
   "execution_count": null,
   "id": "1fbecbf7",
   "metadata": {
    "execution": {
     "iopub.execute_input": "2024-03-11T16:06:33.049821Z",
     "iopub.status.busy": "2024-03-11T16:06:33.049450Z",
     "iopub.status.idle": "2024-03-11T16:06:38.754485Z",
     "shell.execute_reply": "2024-03-11T16:06:38.753528Z"
    },
    "papermill": {
     "duration": 5.909284,
     "end_time": "2024-03-11T16:06:38.757099",
     "exception": false,
     "start_time": "2024-03-11T16:06:32.847815",
     "status": "completed"
    },
    "tags": []
   },
   "outputs": [],
   "source": [
    "label = {0:\"Speed Limit 5\", 1:\"Speed Limit 15\", 2:\"Speed Limit 30\", \n",
    "         3:\"Speed Limit 40\", 4:\"Speed Limit 50\", 5:\"Speed Limit 60\", \n",
    "         6:\"Speed Limit 70\", 7:\"Speed Limit 80\", 8:\"Don't go straight or left\", \n",
    "         9:\"Don't go straight or right\", 10:\"Don't go straight\", 11:\"No Left\",\n",
    "         12:\"Don't go right or left\", 13:\"Don't go right\", 14:\"No Overtake from Left\", \n",
    "         15:\"No U-turn\", 16:\"No Cars\", 17:\"No Horn\", 18:\"Speed Limit (40km/h)\",\n",
    "         19:\"Speed Limit (50km/h)\", 20:\"Go straight or right\", 21:\"Watch out for cars\",\n",
    "         22:\"Go left\", 23:\"Go left or right\", 24:\"Go right\", 25:\"Keep Left\",\n",
    "         26:\"Keep Right\", 27:\"Roundabout mandatory\", 28:\"Go Straight\",\n",
    "         29:\"Horn\", 30:\"Bicycle Crossing\", 31:\"U-turn\", 32:\"Road Divider\",\n",
    "         33:\"Traffic Signals\", 34:\"Danger ahead\", 35:\"Zebra Crossing\",\n",
    "         36:\"Bicycle Crossing\", 37:\"Children Crossing\", 38:\"Dangerous curve to the left\",\n",
    "         39:\"Dangerous curve to the right\", 40:\"Unknown 1\", 41:\"Unknown 2\", 42:\"Unknown 3\",\n",
    "         43:\"Go right or straight\", 44:\"Go left or straight\", 45:\"Unknown 4\", \n",
    "         46:\"Zigzag curve\", 47:\"Train Crossing\", 48:\"Under construction\", 49:\"Unknown 5\",\n",
    "         50:\"Fences\", 51:\"Heavy Vehicle Accidents\", 52:\"Unknown 6\", 53:\"Give way\",\n",
    "         54:\"No Stopping\", 55:\"No Entry\", 56:\"Yield\", 57:\"Unknown 8\"}\n",
    "\n",
    "img_directory = \"/kaggle/input/traffic-sign-dataset-classification/traffic_Data/TEST/021_1_0008.png\"\n",
    "test_image = image.load_img(img_directory, target_size=(128, 128))\n",
    "test_image = image.img_to_array(test_image)\n",
    "test_image = np.expand_dims(test_image, axis=0)\n",
    "test_image\n",
    "\n",
    "result = model3.predict(test_image)\n",
    "    \n",
    "img = mpimg.imread(img_directory)\n",
    "imgplot = plt.imshow(img)\n",
    "plt.show()\n",
    "    \n",
    "print(f\"Predicted class: {label[np.argmax(result)]}\")"
   ]
  },
  {
   "cell_type": "markdown",
   "id": "e617d276",
   "metadata": {
    "papermill": {
     "duration": 0.215439,
     "end_time": "2024-03-11T16:06:39.180948",
     "exception": false,
     "start_time": "2024-03-11T16:06:38.965509",
     "status": "completed"
    },
    "tags": []
   },
   "source": [
    "As you can see, the predicticted class matches what the image is saying showing that our model works well!"
   ]
  },
  {
   "cell_type": "markdown",
   "id": "eaf098bd",
   "metadata": {
    "papermill": {
     "duration": 0.204042,
     "end_time": "2024-03-11T16:06:39.591880",
     "exception": false,
     "start_time": "2024-03-11T16:06:39.387838",
     "status": "completed"
    },
    "tags": []
   },
   "source": [
    "## Conclusion\n",
    "Through this investigation, I feel that we were able to be pretty successful in my goal. I found a model using a pretrained one that was able to fairly accurately predict and determine common traffic signs.\n",
    "\n",
    "However, I think the data I used was quite standardised, so I'm not sure if this accuracy would be the same for photos where there is more background noise or it is further away. A major challenge was trying to make sure that the model was not overfit to the data as certain classes did not have many images and some images were in mutiple classes as well. \n",
    "\n",
    "Nonetheless, I think this model is very applicable to the real world with further steps. It can be used for automation in transport or to help the visually impaired with road safety."
   ]
  },
  {
   "cell_type": "markdown",
   "id": "143c217d",
   "metadata": {
    "papermill": {
     "duration": 0.203459,
     "end_time": "2024-03-11T16:06:39.997475",
     "exception": false,
     "start_time": "2024-03-11T16:06:39.794016",
     "status": "completed"
    },
    "tags": []
   },
   "source": [
    "## Future Work\n",
    "What are the next steps?\n",
    "\n",
    "1. Having live image detection so cars can respond in real time\n",
    "2. Converting it to speech for audio aid\n",
    "3. Adding a wider variety of road signs / altering based on country"
   ]
  },
  {
   "cell_type": "markdown",
   "id": "2e98e178",
   "metadata": {
    "papermill": {
     "duration": 0.248759,
     "end_time": "2024-03-11T16:06:40.449235",
     "exception": false,
     "start_time": "2024-03-11T16:06:40.200476",
     "status": "completed"
    },
    "tags": []
   },
   "source": [
    "## References\n",
    "1. Transfer learning example notebook (goes with the video demonstration)- https://www.kaggle.com/dansbecker/transfer-learning/\n",
    "2. Kaggle Computer Vision course final notebook on Data Augmentation- https://www.kaggle.com/ryanholbrook/data-augmentation\n",
    "3. Traffic Sign Dataset\n",
    "https://www.kaggle.com/datasets/ahemateja19bec1025/traffic-sign-dataset-classification"
   ]
  }
 ],
 "metadata": {
  "kaggle": {
   "accelerator": "nvidiaTeslaT4",
   "dataSources": [
    {
     "datasetId": 4427,
     "sourceId": 24196,
     "sourceType": "datasetVersion"
    },
    {
     "datasetId": 464180,
     "sourceId": 872462,
     "sourceType": "datasetVersion"
    },
    {
     "datasetId": 1794080,
     "sourceId": 2952603,
     "sourceType": "datasetVersion"
    }
   ],
   "isGpuEnabled": true,
   "isInternetEnabled": false,
   "language": "python",
   "sourceType": "notebook"
  },
  "kernelspec": {
   "display_name": "Python 3",
   "language": "python",
   "name": "python3"
  },
  "language_info": {
   "codemirror_mode": {
    "name": "ipython",
    "version": 3
   },
   "file_extension": ".py",
   "mimetype": "text/x-python",
   "name": "python",
   "nbconvert_exporter": "python",
   "pygments_lexer": "ipython3",
   "version": "3.10.0"
  },
  "papermill": {
   "default_parameters": {},
   "duration": 754.256211,
   "end_time": "2024-03-11T16:06:43.757187",
   "environment_variables": {},
   "exception": null,
   "input_path": "__notebook__.ipynb",
   "output_path": "__notebook__.ipynb",
   "parameters": {},
   "start_time": "2024-03-11T15:54:09.500976",
   "version": "2.5.0"
  }
 },
 "nbformat": 4,
 "nbformat_minor": 5
}
