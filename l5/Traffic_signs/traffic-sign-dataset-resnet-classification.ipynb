{
 "cells": [
  {
   "cell_type": "markdown",
   "id": "b4248df2",
   "metadata": {},
   "source": [
    "# __Original notebook can be found here:__ https://www.kaggle.com/code/moh3we5/traffic-sign-dataset-resnet-classification"
   ]
  },
  {
   "cell_type": "markdown",
   "id": "a28b295c",
   "metadata": {
    "papermill": {
     "duration": 0.007291,
     "end_time": "2023-06-17T17:32:11.629071",
     "exception": false,
     "start_time": "2023-06-17T17:32:11.621780",
     "status": "completed"
    },
    "tags": []
   },
   "source": [
    "# Import Libraries"
   ]
  },
  {
   "cell_type": "code",
   "execution_count": null,
   "id": "423fedbf",
   "metadata": {
    "execution": {
     "iopub.execute_input": "2023-06-17T17:32:11.669786Z",
     "iopub.status.busy": "2023-06-17T17:32:11.669385Z",
     "iopub.status.idle": "2023-06-17T17:32:22.207454Z",
     "shell.execute_reply": "2023-06-17T17:32:22.206331Z"
    },
    "papermill": {
     "duration": 10.54978,
     "end_time": "2023-06-17T17:32:22.210076",
     "exception": false,
     "start_time": "2023-06-17T17:32:11.660296",
     "status": "completed"
    },
    "tags": []
   },
   "outputs": [],
   "source": [
    "import os\n",
    "import glob\n",
    "import pandas as pd\n",
    "from PIL import Image\n",
    "import numpy as np\n",
    "import matplotlib.pyplot as plt\n",
    "from tensorflow.keras.preprocessing.image import ImageDataGenerator\n",
    "import tensorflow as tf\n",
    "from tensorflow import keras\n",
    "from tensorflow.keras.utils import plot_model\n",
    "from tensorflow.keras.models import Sequential,Model\n",
    "from tensorflow.keras.layers import Dense, Conv2D, MaxPool2D, Flatten\n",
    "from tensorflow.keras.applications.resnet50 import ResNet50\n",
    "from tensorflow.keras.layers import Dense, Dropout, Flatten, BatchNormalization\n",
    "from tensorflow.keras.preprocessing import image_dataset_from_directory\n",
    "\n",
    "tf.random.set_seed(42)\n",
    "np.random.seed(42) "
   ]
  },
  {
   "cell_type": "markdown",
   "id": "4b3ebaf1",
   "metadata": {
    "papermill": {
     "duration": 0.007249,
     "end_time": "2023-06-17T17:32:22.225004",
     "exception": false,
     "start_time": "2023-06-17T17:32:22.217755",
     "status": "completed"
    },
    "tags": []
   },
   "source": [
    "# Load the Data\n",
    "\n",
    "### __NOTE__: ImageDataGenerator is __depricated__"
   ]
  },
  {
   "cell_type": "markdown",
   "id": "058d8708",
   "metadata": {
    "papermill": {
     "duration": 0.006957,
     "end_time": "2023-06-17T17:32:22.239320",
     "exception": false,
     "start_time": "2023-06-17T17:32:22.232363",
     "status": "completed"
    },
    "tags": []
   },
   "source": [
    "## Train Data"
   ]
  },
  {
   "cell_type": "code",
   "execution_count": null,
   "id": "31048280",
   "metadata": {
    "execution": {
     "iopub.execute_input": "2023-06-17T17:32:22.256564Z",
     "iopub.status.busy": "2023-06-17T17:32:22.255326Z",
     "iopub.status.idle": "2023-06-17T17:32:22.260698Z",
     "shell.execute_reply": "2023-06-17T17:32:22.259814Z"
    },
    "papermill": {
     "duration": 0.016015,
     "end_time": "2023-06-17T17:32:22.262700",
     "exception": false,
     "start_time": "2023-06-17T17:32:22.246685",
     "status": "completed"
    },
    "tags": []
   },
   "outputs": [],
   "source": [
    "train_datagen = ImageDataGenerator(zoom_range=0.5, shear_range=0.8, horizontal_flip=True, rescale=1/255, validation_split=0.2)"
   ]
  },
  {
   "cell_type": "code",
   "execution_count": null,
   "id": "1a958ae9",
   "metadata": {
    "execution": {
     "iopub.execute_input": "2023-06-17T17:32:22.279477Z",
     "iopub.status.busy": "2023-06-17T17:32:22.278570Z",
     "iopub.status.idle": "2023-06-17T17:32:22.497251Z",
     "shell.execute_reply": "2023-06-17T17:32:22.496209Z"
    },
    "papermill": {
     "duration": 0.229865,
     "end_time": "2023-06-17T17:32:22.499990",
     "exception": false,
     "start_time": "2023-06-17T17:32:22.270125",
     "status": "completed"
    },
    "tags": []
   },
   "outputs": [],
   "source": [
    "# base_path = os.path.basename('images')\n",
    "train_path = os.path.join('images', 'traffic_Data', 'TRAIN')\n",
    "\n",
    "data_train_gen = train_datagen.flow_from_directory(\n",
    "    train_path,\n",
    "    target_size=(224,224),\n",
    "    batch_size=32,\n",
    "    class_mode='categorical',\n",
    "    color_mode='rgb',\n",
    "    seed = 1234,\n",
    "    shuffle = True,\n",
    "    subset='training') # set as training data\n",
    "\n",
    "data_val_gen = train_datagen.flow_from_directory(\n",
    "    train_path,\n",
    "    target_size=(224,224),\n",
    "    batch_size=32,\n",
    "    class_mode='categorical',\n",
    "    color_mode='rgb',\n",
    "    seed = 1234,\n",
    "    shuffle = True,\n",
    "    subset='validation') # set as validation data\n"
   ]
  },
  {
   "cell_type": "markdown",
   "id": "f17b8a2a",
   "metadata": {},
   "source": [
    "# Load the Data V2\n",
    "\n",
    "### __NOTE__: image_dataset_from_directory is more up to data data loader"
   ]
  },
  {
   "cell_type": "code",
   "execution_count": null,
   "id": "e55a0a1f",
   "metadata": {},
   "outputs": [],
   "source": [
    "data_train_gen = image_dataset_from_directory(\n",
    "    train_path,\n",
    "    labels='inferred',\n",
    "    label_mode='int',\n",
    "    color_mode='rgb',\n",
    "    batch_size=32,\n",
    "    image_size=(224,224),\n",
    "    shuffle=True,\n",
    "    seed=42,\n",
    "    validation_split=0.2,\n",
    "    subset='training',\n",
    "    interpolation='bilinear'\n",
    ")\n",
    "\n",
    "\n",
    "data_val_gen = image_dataset_from_directory(\n",
    "    train_path,\n",
    "    labels='inferred',\n",
    "    label_mode='int',\n",
    "    color_mode='rgb',\n",
    "    batch_size=32,\n",
    "    image_size=(224,224),\n",
    "    shuffle=True,\n",
    "    seed=42,\n",
    "    validation_split=0.2,\n",
    "    subset='validation',\n",
    "    interpolation='bilinear'\n",
    ")"
   ]
  },
  {
   "cell_type": "code",
   "execution_count": null,
   "id": "37d26e4f",
   "metadata": {
    "execution": {
     "iopub.execute_input": "2023-06-17T17:32:22.517093Z",
     "iopub.status.busy": "2023-06-17T17:32:22.516729Z",
     "iopub.status.idle": "2023-06-17T17:32:22.525888Z",
     "shell.execute_reply": "2023-06-17T17:32:22.524922Z"
    },
    "papermill": {
     "duration": 0.020545,
     "end_time": "2023-06-17T17:32:22.528172",
     "exception": false,
     "start_time": "2023-06-17T17:32:22.507627",
     "status": "completed"
    },
    "tags": []
   },
   "outputs": [],
   "source": [
    "data_train_gen.class_indices"
   ]
  },
  {
   "cell_type": "markdown",
   "id": "19c5f660",
   "metadata": {
    "papermill": {
     "duration": 0.007315,
     "end_time": "2023-06-17T17:32:22.543350",
     "exception": false,
     "start_time": "2023-06-17T17:32:22.536035",
     "status": "completed"
    },
    "tags": []
   },
   "source": [
    "## Test Data"
   ]
  },
  {
   "cell_type": "code",
   "execution_count": null,
   "id": "87eae768",
   "metadata": {
    "execution": {
     "iopub.execute_input": "2023-06-17T17:32:22.560375Z",
     "iopub.status.busy": "2023-06-17T17:32:22.560009Z",
     "iopub.status.idle": "2023-06-17T17:32:34.688903Z",
     "shell.execute_reply": "2023-06-17T17:32:34.687808Z"
    },
    "papermill": {
     "duration": 12.140416,
     "end_time": "2023-06-17T17:32:34.691434",
     "exception": false,
     "start_time": "2023-06-17T17:32:22.551018",
     "status": "completed"
    },
    "tags": []
   },
   "outputs": [],
   "source": [
    "all_images = []\n",
    "for img_path in glob.glob(\"images/traffic_Data/TEST/*\"):\n",
    "    img = Image.open(img_path)\n",
    "    img = img.resize((224, 224))\n",
    "    img_array = np.array(img)\n",
    "    img_array = img_array / 255.0  # divide by 255.0 to get float values between 0 and 1 (Rescale)\n",
    "    all_images.append(img_array)"
   ]
  },
  {
   "cell_type": "code",
   "execution_count": null,
   "id": "c642ddd8",
   "metadata": {},
   "outputs": [],
   "source": [
    "plt.imshow(all_images[40])"
   ]
  },
  {
   "cell_type": "markdown",
   "id": "6180d253",
   "metadata": {
    "papermill": {
     "duration": 0.011447,
     "end_time": "2023-06-17T17:32:35.177212",
     "exception": false,
     "start_time": "2023-06-17T17:32:35.165765",
     "status": "completed"
    },
    "tags": []
   },
   "source": [
    "# Import the Model"
   ]
  },
  {
   "cell_type": "code",
   "execution_count": null,
   "id": "26f22ae0",
   "metadata": {
    "execution": {
     "iopub.execute_input": "2023-06-17T17:32:35.201723Z",
     "iopub.status.busy": "2023-06-17T17:32:35.201021Z",
     "iopub.status.idle": "2023-06-17T17:32:41.930276Z",
     "shell.execute_reply": "2023-06-17T17:32:41.929090Z"
    },
    "papermill": {
     "duration": 6.744384,
     "end_time": "2023-06-17T17:32:41.932901",
     "exception": false,
     "start_time": "2023-06-17T17:32:35.188517",
     "status": "completed"
    },
    "tags": []
   },
   "outputs": [],
   "source": [
    "ResNet50_model = ResNet50(weights='imagenet',\n",
    "                  include_top=False,\n",
    "                  input_shape=(224,224,3)\n",
    "                  )"
   ]
  },
  {
   "cell_type": "markdown",
   "id": "d0fb61ba",
   "metadata": {
    "papermill": {
     "duration": 0.013683,
     "end_time": "2023-06-17T17:32:41.960745",
     "exception": false,
     "start_time": "2023-06-17T17:32:41.947062",
     "status": "completed"
    },
    "tags": []
   },
   "source": [
    "# Model Architecture"
   ]
  },
  {
   "cell_type": "code",
   "execution_count": null,
   "id": "b5b6d6b1",
   "metadata": {},
   "outputs": [],
   "source": [
    "print(ResNet50_model.trainable)\n",
    "ResNet50_model.trainable = False\n",
    "print(ResNet50_model.trainable)"
   ]
  },
  {
   "cell_type": "code",
   "execution_count": null,
   "id": "7985e5e5",
   "metadata": {
    "execution": {
     "iopub.execute_input": "2023-06-17T17:32:43.847348Z",
     "iopub.status.busy": "2023-06-17T17:32:43.846411Z",
     "iopub.status.idle": "2023-06-17T17:32:44.319264Z",
     "shell.execute_reply": "2023-06-17T17:32:44.315989Z"
    },
    "papermill": {
     "duration": 0.557008,
     "end_time": "2023-06-17T17:32:44.383799",
     "exception": false,
     "start_time": "2023-06-17T17:32:43.826791",
     "status": "completed"
    },
    "tags": []
   },
   "outputs": [],
   "source": [
    "# ResNet50_model.summary()"
   ]
  },
  {
   "cell_type": "code",
   "execution_count": null,
   "id": "33d71f75",
   "metadata": {
    "execution": {
     "iopub.execute_input": "2023-06-17T17:32:44.478833Z",
     "iopub.status.busy": "2023-06-17T17:32:44.478431Z",
     "iopub.status.idle": "2023-06-17T17:32:46.581149Z",
     "shell.execute_reply": "2023-06-17T17:32:46.579846Z"
    },
    "papermill": {
     "duration": 2.175317,
     "end_time": "2023-06-17T17:32:46.605271",
     "exception": false,
     "start_time": "2023-06-17T17:32:44.429954",
     "status": "completed"
    },
    "tags": []
   },
   "outputs": [],
   "source": [
    "# plot_model(ResNet50_model, to_file= 'ResNet50_model.png', show_shapes = True, show_layer_names=True)"
   ]
  },
  {
   "cell_type": "code",
   "execution_count": null,
   "id": "a8529cee",
   "metadata": {
    "execution": {
     "iopub.execute_input": "2023-06-17T17:32:46.927694Z",
     "iopub.status.busy": "2023-06-17T17:32:46.926650Z",
     "iopub.status.idle": "2023-06-17T17:32:46.989358Z",
     "shell.execute_reply": "2023-06-17T17:32:46.988349Z"
    },
    "papermill": {
     "duration": 0.141549,
     "end_time": "2023-06-17T17:32:46.991557",
     "exception": false,
     "start_time": "2023-06-17T17:32:46.850008",
     "status": "completed"
    },
    "tags": []
   },
   "outputs": [],
   "source": [
    "# Transfer Learning\n",
    "flatten_layer1 = Flatten()(ResNet50_model.output)\n",
    "final_layer = Dense(len(data_train_gen.class_indices),activation='Softmax')(flatten_layer1)"
   ]
  },
  {
   "cell_type": "code",
   "execution_count": null,
   "id": "0ddcfceb",
   "metadata": {
    "execution": {
     "iopub.execute_input": "2023-06-17T17:32:47.146611Z",
     "iopub.status.busy": "2023-06-17T17:32:47.145546Z",
     "iopub.status.idle": "2023-06-17T17:32:47.638981Z",
     "shell.execute_reply": "2023-06-17T17:32:47.637757Z"
    },
    "papermill": {
     "duration": 0.614162,
     "end_time": "2023-06-17T17:32:47.681913",
     "exception": false,
     "start_time": "2023-06-17T17:32:47.067751",
     "status": "completed"
    },
    "tags": []
   },
   "outputs": [],
   "source": [
    "model=Model(inputs=ResNet50_model.input,outputs=final_layer)\n",
    "# model.summary()"
   ]
  },
  {
   "cell_type": "code",
   "execution_count": null,
   "id": "64e5ded2",
   "metadata": {
    "execution": {
     "iopub.execute_input": "2023-06-17T17:32:47.898137Z",
     "iopub.status.busy": "2023-06-17T17:32:47.897767Z",
     "iopub.status.idle": "2023-06-17T17:32:50.206070Z",
     "shell.execute_reply": "2023-06-17T17:32:50.205268Z"
    },
    "papermill": {
     "duration": 2.436457,
     "end_time": "2023-06-17T17:32:50.228006",
     "exception": false,
     "start_time": "2023-06-17T17:32:47.791549",
     "status": "completed"
    },
    "tags": []
   },
   "outputs": [],
   "source": [
    "# plot_model(model, to_file= 'model.png', show_shapes = True, show_layer_names=True)"
   ]
  },
  {
   "cell_type": "code",
   "execution_count": null,
   "id": "ee5df38b",
   "metadata": {},
   "outputs": [],
   "source": [
    "for layer in model.layers:\n",
    "    print(f'{layer} is trainable: {layer.trainable}')"
   ]
  },
  {
   "cell_type": "code",
   "execution_count": null,
   "id": "7db45b15",
   "metadata": {},
   "outputs": [],
   "source": [
    "len(model.trainable_weights)"
   ]
  },
  {
   "cell_type": "markdown",
   "id": "7164e154",
   "metadata": {
    "papermill": {
     "duration": 0.136955,
     "end_time": "2023-06-17T17:32:52.526421",
     "exception": false,
     "start_time": "2023-06-17T17:32:52.389466",
     "status": "completed"
    },
    "tags": []
   },
   "source": [
    "# Model training"
   ]
  },
  {
   "cell_type": "code",
   "execution_count": null,
   "id": "2898ef64",
   "metadata": {
    "execution": {
     "iopub.execute_input": "2023-06-17T17:32:52.800643Z",
     "iopub.status.busy": "2023-06-17T17:32:52.800203Z",
     "iopub.status.idle": "2023-06-17T17:32:52.834852Z",
     "shell.execute_reply": "2023-06-17T17:32:52.833876Z"
    },
    "papermill": {
     "duration": 0.174557,
     "end_time": "2023-06-17T17:32:52.837121",
     "exception": false,
     "start_time": "2023-06-17T17:32:52.662564",
     "status": "completed"
    },
    "tags": []
   },
   "outputs": [],
   "source": [
    "model.compile(optimizer='adam', loss='categorical_crossentropy', metrics=['accuracy'])"
   ]
  },
  {
   "cell_type": "code",
   "execution_count": null,
   "id": "6be5733f",
   "metadata": {
    "execution": {
     "iopub.execute_input": "2023-06-17T17:32:53.112558Z",
     "iopub.status.busy": "2023-06-17T17:32:53.112124Z",
     "iopub.status.idle": "2023-06-17T21:48:15.553391Z",
     "shell.execute_reply": "2023-06-17T21:48:15.552554Z"
    },
    "papermill": {
     "duration": 15322.582035,
     "end_time": "2023-06-17T21:48:15.555453",
     "exception": false,
     "start_time": "2023-06-17T17:32:52.973418",
     "status": "completed"
    },
    "tags": []
   },
   "outputs": [],
   "source": [
    "model_training = model.fit(data_train_gen, epochs=10, validation_data=data_val_gen)"
   ]
  },
  {
   "cell_type": "markdown",
   "id": "14775ea3",
   "metadata": {
    "papermill": {
     "duration": 1.017145,
     "end_time": "2023-06-17T21:48:17.713944",
     "exception": false,
     "start_time": "2023-06-17T21:48:16.696799",
     "status": "completed"
    },
    "tags": []
   },
   "source": [
    "# History"
   ]
  },
  {
   "cell_type": "code",
   "execution_count": null,
   "id": "6905b2d3",
   "metadata": {
    "execution": {
     "iopub.execute_input": "2023-06-17T21:48:19.862884Z",
     "iopub.status.busy": "2023-06-17T21:48:19.861933Z",
     "iopub.status.idle": "2023-06-17T21:48:19.895361Z",
     "shell.execute_reply": "2023-06-17T21:48:19.894641Z"
    },
    "papermill": {
     "duration": 1.164568,
     "end_time": "2023-06-17T21:48:19.897496",
     "exception": false,
     "start_time": "2023-06-17T21:48:18.732928",
     "status": "completed"
    },
    "tags": []
   },
   "outputs": [],
   "source": [
    "# History\n",
    "pd.DataFrame(model_training.history)"
   ]
  },
  {
   "cell_type": "code",
   "execution_count": null,
   "id": "cfd27560",
   "metadata": {
    "execution": {
     "iopub.execute_input": "2023-06-17T21:48:22.096388Z",
     "iopub.status.busy": "2023-06-17T21:48:22.095762Z",
     "iopub.status.idle": "2023-06-17T21:48:22.330639Z",
     "shell.execute_reply": "2023-06-17T21:48:22.329555Z"
    },
    "papermill": {
     "duration": 1.426179,
     "end_time": "2023-06-17T21:48:22.332696",
     "exception": false,
     "start_time": "2023-06-17T21:48:20.906517",
     "status": "completed"
    },
    "tags": []
   },
   "outputs": [],
   "source": [
    "# Plot the Losses\n",
    "plt.plot(model_training.history['loss'])\n",
    "plt.plot(model_training.history['val_loss'])"
   ]
  },
  {
   "cell_type": "code",
   "execution_count": null,
   "id": "f1e3161c",
   "metadata": {},
   "outputs": [],
   "source": [
    "# Plot the Losses\n",
    "plt.plot(model_training.history['accuracy'])\n",
    "plt.plot(model_training.history['val_accuracy'])"
   ]
  },
  {
   "cell_type": "markdown",
   "id": "669077aa",
   "metadata": {
    "papermill": {
     "duration": 1.001414,
     "end_time": "2023-06-17T21:48:24.330219",
     "exception": false,
     "start_time": "2023-06-17T21:48:23.328805",
     "status": "completed"
    },
    "tags": []
   },
   "source": [
    "# Save the Model"
   ]
  },
  {
   "cell_type": "code",
   "execution_count": null,
   "id": "965d3dee",
   "metadata": {
    "execution": {
     "iopub.execute_input": "2023-06-17T21:48:26.448846Z",
     "iopub.status.busy": "2023-06-17T21:48:26.447870Z",
     "iopub.status.idle": "2023-06-17T21:48:27.173515Z",
     "shell.execute_reply": "2023-06-17T21:48:27.172679Z"
    },
    "papermill": {
     "duration": 1.73766,
     "end_time": "2023-06-17T21:48:27.175817",
     "exception": false,
     "start_time": "2023-06-17T21:48:25.438157",
     "status": "completed"
    },
    "tags": []
   },
   "outputs": [],
   "source": [
    "# model.save('Traffic_ResNet50_94%.h5')"
   ]
  }
 ],
 "metadata": {
  "kernelspec": {
   "display_name": "Python 3",
   "language": "python",
   "name": "python3"
  },
  "language_info": {
   "codemirror_mode": {
    "name": "ipython",
    "version": 3
   },
   "file_extension": ".py",
   "mimetype": "text/x-python",
   "name": "python",
   "nbconvert_exporter": "python",
   "pygments_lexer": "ipython3",
   "version": "3.10.0"
  },
  "papermill": {
   "default_parameters": {},
   "duration": 15403.23871,
   "end_time": "2023-06-17T21:48:31.870371",
   "environment_variables": {},
   "exception": null,
   "input_path": "__notebook__.ipynb",
   "output_path": "__notebook__.ipynb",
   "parameters": {},
   "start_time": "2023-06-17T17:31:48.631661",
   "version": "2.4.0"
  }
 },
 "nbformat": 4,
 "nbformat_minor": 5
}
